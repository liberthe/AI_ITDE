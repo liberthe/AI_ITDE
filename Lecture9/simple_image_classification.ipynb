{
 "cells": [
  {
   "cell_type": "code",
   "execution_count": 2,
   "metadata": {},
   "outputs": [],
   "source": [
    "# Creating data set\n",
    "\n",
    "# A\n",
    "a =[0, 0, 1, 1, 0, 0,\n",
    "0, 1, 0, 0, 1, 0,\n",
    "1, 1, 1, 1, 1, 1,\n",
    "1, 0, 0, 0, 0, 1,\n",
    "1, 0, 0, 0, 0, 1]\n",
    "# B\n",
    "b =[0, 1, 1, 1, 1, 0,\n",
    "0, 1, 0, 0, 1, 0,\n",
    "0, 1, 1, 1, 1, 0,\n",
    "0, 1, 0, 0, 1, 0,\n",
    "0, 1, 1, 1, 1, 0]\n",
    "# C\n",
    "c =[0, 1, 1, 1, 1, 0,\n",
    "0, 1, 0, 0, 0, 0,\n",
    "0, 1, 0, 0, 0, 0,\n",
    "0, 1, 0, 0, 0, 0,\n",
    "0, 1, 1, 1, 1, 0]\n",
    "\n",
    "# Creating labels\n",
    "y =[[1, 0, 0],\n",
    "[0, 1, 0],\n",
    "[0, 0, 1]]\n"
   ]
  },
  {
   "cell_type": "code",
   "execution_count": 5,
   "metadata": {},
   "outputs": [
    {
     "data": {
      "image/png": "[encoded data removed]",
      "text/plain": [
       "<Figure size 640x480 with 1 Axes>"
      ]
     },
     "metadata": {},
     "output_type": "display_data"
    }
   ],
   "source": [
    "import numpy as np\n",
    "import matplotlib.pyplot as plt\n",
    "# visualizing the data, plotting A.\n",
    "plt.imshow(np.array(c).reshape(5, 6))\n",
    "plt.show()\n"
   ]
  },
  {
   "cell_type": "code",
   "execution_count": 42,
   "metadata": {},
   "outputs": [],
   "source": [
    "X = np.array([a, b, c])\n",
    "y = np.array([\"A\", \"B\", \"C\"])"
   ]
  },
  {
   "cell_type": "code",
   "execution_count": 43,
   "metadata": {},
   "outputs": [
    {
     "name": "stdout",
     "output_type": "stream",
     "text": [
      "Các hệ số của mô hình:\n",
      "[[ 0.00000000e+00 -1.75799448e-01  1.32863016e-06  1.32863016e-06\n",
      "  -1.75799448e-01  0.00000000e+00  0.00000000e+00  1.32863016e-06\n",
      "   0.00000000e+00  0.00000000e+00  7.53733915e-02  0.00000000e+00\n",
      "   1.75800777e-01  1.32863016e-06  7.53733915e-02  7.53733915e-02\n",
      "   7.53733915e-02  1.75800777e-01  1.75800777e-01 -1.75799448e-01\n",
      "   0.00000000e+00  0.00000000e+00 -1.00427386e-01  1.75800777e-01\n",
      "   1.75800777e-01 -1.75799448e-01 -1.75799448e-01 -1.75799448e-01\n",
      "  -1.75799448e-01  1.75800777e-01]\n",
      " [ 0.00000000e+00  1.02042464e-01 -8.40116130e-06 -8.40116130e-06\n",
      "   1.02042464e-01  0.00000000e+00  0.00000000e+00 -8.40116130e-06\n",
      "   0.00000000e+00  0.00000000e+00  2.05466248e-01  0.00000000e+00\n",
      "  -1.02050865e-01 -8.40116130e-06  2.05466248e-01  2.05466248e-01\n",
      "   2.05466248e-01 -1.02050865e-01 -1.02050865e-01  1.02042464e-01\n",
      "   0.00000000e+00  0.00000000e+00  3.07517113e-01 -1.02050865e-01\n",
      "  -1.02050865e-01  1.02042464e-01  1.02042464e-01  1.02042464e-01\n",
      "   1.02042464e-01 -1.02050865e-01]\n",
      " [ 0.00000000e+00  7.37569843e-02  7.07253114e-06  7.07253114e-06\n",
      "   7.37569843e-02  0.00000000e+00  0.00000000e+00  7.07253114e-06\n",
      "   0.00000000e+00  0.00000000e+00 -2.80839639e-01  0.00000000e+00\n",
      "  -7.37499118e-02  7.07253114e-06 -2.80839639e-01 -2.80839639e-01\n",
      "  -2.80839639e-01 -7.37499118e-02 -7.37499118e-02  7.37569843e-02\n",
      "   0.00000000e+00  0.00000000e+00 -2.07089727e-01 -7.37499118e-02\n",
      "  -7.37499118e-02  7.37569843e-02  7.37569843e-02  7.37569843e-02\n",
      "   7.37569843e-02 -7.37499118e-02]]\n",
      "Các bias của mô hình:\n",
      "[ 0.14455395 -0.7976011   0.65304715]\n",
      "Độ chính xác của mô hình: 1.0\n"
     ]
    }
   ],
   "source": [
    "from sklearn.linear_model import LogisticRegression\n",
    "\n",
    "# Huấn luyện mô hình Logistic Regression\n",
    "model = LogisticRegression()\n",
    "model.fit(X, y)\n",
    "\n",
    "# In ra các hệ số của mô hình\n",
    "print(\"Các hệ số của mô hình:\")\n",
    "print(model.coef_)\n",
    "\n",
    "# In ra các bias của mô hình\n",
    "print(\"Các bias của mô hình:\")\n",
    "print(model.intercept_)\n",
    "\n",
    "# Đánh giá độ chính xác của mô hình\n",
    "accuracy = model.score(X, y)\n",
    "print(\"Độ chính xác của mô hình:\", accuracy)"
   ]
  },
  {
   "cell_type": "code",
   "execution_count": 41,
   "metadata": {},
   "outputs": [
    {
     "name": "stdout",
     "output_type": "stream",
     "text": [
      "[array([[0, 0, 1, 1, 0, 0, 0, 1, 0, 0, 1, 0, 1, 1, 1, 1, 1, 1, 1, 0, 0, 0,\n",
      "        0, 1, 1, 0, 0, 0, 0, 1]]), array([[0, 1, 1, 1, 1, 0, 0, 1, 0, 0, 1, 0, 0, 1, 1, 1, 1, 0, 0, 1, 0, 0,\n",
      "        1, 0, 0, 1, 1, 1, 1, 0]]), array([[0, 1, 1, 1, 1, 0, 0, 1, 0, 0, 0, 0, 0, 1, 0, 0, 0, 0, 0, 1, 0, 0,\n",
      "        0, 0, 0, 1, 1, 1, 1, 0]])] \n",
      "\n",
      " ['A' 'B' 'C']\n"
     ]
    }
   ],
   "source": [
    "# converting data and labels into numpy array\n",
    "\n",
    "\"\"\"\n",
    "Convert the matrix of 0 and 1 into one hot vector \n",
    "so that we can directly feed it to the neural network,\n",
    "these vectors are then stored in a list x.\n",
    "\"\"\"\n",
    "\n",
    "x =[np.array(a).reshape(1, 30), np.array(b).reshape(1, 30), \n",
    "\t\t\t\t\t\t\t\tnp.array(c).reshape(1, 30)]\n",
    "\n",
    "\n",
    "# Labels are also converted into NumPy array\n",
    "y = np.array(y)\n",
    "\n",
    "\n",
    "print(x, \"\\n\\n\", y)\n"
   ]
  },
  {
   "cell_type": "code",
   "execution_count": 38,
   "metadata": {},
   "outputs": [],
   "source": [
    "# activation function\n",
    "\n",
    "def sigmoid(x):\n",
    "\treturn(1/(1 + np.exp(-x)))\n",
    "\n",
    "# Creating the Feed forward neural network\n",
    "# 1 Input layer(1, 30)\n",
    "# 1 hidden layer (1, 5)\n",
    "# 1 output layer(3, 3)\n",
    "\n",
    "def f_forward(x, w1, w2):\n",
    "\t# hidden\n",
    "\tz1 = x.dot(w1)# input from layer 1 \n",
    "\ta1 = sigmoid(z1)# out put of layer 2 \n",
    "\t\n",
    "\t# Output layer\n",
    "\tz2 = a1.dot(w2)# input of out layer\n",
    "\ta2 = sigmoid(z2)# output of out layer\n",
    "\treturn(a2)\n",
    "\n",
    "# initializing the weights randomly\n",
    "def generate_wt(x, y):\n",
    "\tl =[]\n",
    "\tfor i in range(x * y):\n",
    "\t\tl.append(np.random.randn())\n",
    "\treturn(np.array(l).reshape(x, y))\n",
    "\t\n",
    "# for loss we will be using mean square error(MSE)\n",
    "def loss(out, Y):\n",
    "\ts =(np.square(out-Y))\n",
    "\ts = np.sum(s)/len(y)\n",
    "\treturn(s)\n",
    "\n",
    "# Back propagation of error \n",
    "def back_prop(x, y, w1, w2, alpha):\n",
    "\t\n",
    "\t# hidden layer\n",
    "\tz1 = x.dot(w1)# input from layer 1 \n",
    "\ta1 = sigmoid(z1)# output of layer 2 \n",
    "\t\n",
    "\t# Output layer\n",
    "\tz2 = a1.dot(w2)# input of out layer\n",
    "\ta2 = sigmoid(z2)# output of out layer\n",
    "\t# error in output layer\n",
    "\td2 =(a2-y)\n",
    "\td1 = np.multiply((w2.dot((d2.transpose()))).transpose(), \n",
    "\t\t\t\t\t\t\t\t(np.multiply(a1, 1-a1)))\n",
    "\n",
    "\t# Gradient for w1 and w2\n",
    "\tw1_adj = x.transpose().dot(d1)\n",
    "\tw2_adj = a1.transpose().dot(d2)\n",
    "\t\n",
    "\t# Updating parameters\n",
    "\tw1 = w1-(alpha*(w1_adj))\n",
    "\tw2 = w2-(alpha*(w2_adj))\n",
    "\t\n",
    "\treturn(w1, w2)\n",
    "\n",
    "def train(x, Y, w1, w2, alpha = 0.01, epoch = 10):\n",
    "\tacc =[]\n",
    "\tlosss =[]\n",
    "\tfor j in range(epoch):\n",
    "\t\tl =[]\n",
    "\t\tfor i in range(len(x)):\n",
    "\t\t\tout = f_forward(x[i], w1, w2)\n",
    "\t\t\tl.append((loss(out, Y[i])))\n",
    "\t\t\tw1, w2 = back_prop(x[i], y[i], w1, w2, alpha)\n",
    "\t\tprint(\"epochs:\", j + 1, \"======== acc:\", (1-(sum(l)/len(x)))*100) \n",
    "\t\tacc.append((1-(sum(l)/len(x)))*100)\n",
    "\t\tlosss.append(sum(l)/len(x))\n",
    "\treturn(acc, losss, w1, w2)\n",
    "\n",
    "def predict(x, w1, w2):\n",
    "\tOut = f_forward(x, w1, w2)\n",
    "\tmaxm = 0\n",
    "\tk = 0\n",
    "\tfor i in range(len(Out[0])):\n",
    "\t\tif(maxm<Out[0][i]):\n",
    "\t\t\tmaxm = Out[0][i]\n",
    "\t\t\tk = i\n",
    "\tif(k == 0):\n",
    "\t\tprint(\"Image is of letter A.\")\n",
    "\telif(k == 1):\n",
    "\t\tprint(\"Image is of letter B.\")\n",
    "\telse:\n",
    "\t\tprint(\"Image is of letter C.\")\n",
    "\tplt.imshow(x.reshape(5, 6))\n",
    "\tplt.show() \n",
    "\n",
    "\n"
   ]
  },
  {
   "cell_type": "code",
   "execution_count": 39,
   "metadata": {},
   "outputs": [
    {
     "name": "stdout",
     "output_type": "stream",
     "text": [
      "[[-0.68684399 -2.31073623 -0.41295521]\n",
      " [-0.31371196 -1.29075377 -0.75469906]\n",
      " [-2.73529309  0.80090018 -0.3557105 ]\n",
      " [-0.09488282 -0.16004724 -0.44259362]\n",
      " [-0.72384842  0.16719035 -0.17769292]]\n"
     ]
    }
   ],
   "source": [
    "w1 = generate_wt(30, 5)\n",
    "w2 = generate_wt(5, 3)\n",
    "print(w2)\n"
   ]
  },
  {
   "cell_type": "code",
   "execution_count": 40,
   "metadata": {},
   "outputs": [
    {
     "ename": "UFuncTypeError",
     "evalue": "ufunc 'subtract' did not contain a loop with signature matching types (dtype('float64'), dtype('<U1')) -> None",
     "output_type": "error",
     "traceback": [
      "\u001b[1;31m---------------------------------------------------------------------------\u001b[0m",
      "\u001b[1;31mUFuncTypeError\u001b[0m                            Traceback (most recent call last)",
      "Cell \u001b[1;32mIn[40], line 7\u001b[0m\n\u001b[0;32m      1\u001b[0m \u001b[38;5;124;03m\"\"\"The arguments of train function are data set list x, \u001b[39;00m\n\u001b[0;32m      2\u001b[0m \u001b[38;5;124;03mcorrect labels y, weights w1, w2, learning rate = 0.1, \u001b[39;00m\n\u001b[0;32m      3\u001b[0m \u001b[38;5;124;03mno of epochs or iteration.The function will return the\u001b[39;00m\n\u001b[0;32m      4\u001b[0m \u001b[38;5;124;03mmatrix of accuracy and loss and also the matrix of \u001b[39;00m\n\u001b[0;32m      5\u001b[0m \u001b[38;5;124;03mtrained weights w1, w2\"\"\"\u001b[39;00m\n\u001b[1;32m----> 7\u001b[0m acc, losss, w1_new, w2_new \u001b[38;5;241m=\u001b[39m train(x, y, w1, w2, \u001b[38;5;241m0.1\u001b[39m, \u001b[38;5;241m100\u001b[39m)\n",
      "Cell \u001b[1;32mIn[38], line 66\u001b[0m, in \u001b[0;36mtrain\u001b[1;34m(x, Y, w1, w2, alpha, epoch)\u001b[0m\n\u001b[0;32m     64\u001b[0m \u001b[38;5;28;01mfor\u001b[39;00m i \u001b[38;5;129;01min\u001b[39;00m \u001b[38;5;28mrange\u001b[39m(\u001b[38;5;28mlen\u001b[39m(x)):\n\u001b[0;32m     65\u001b[0m \tout \u001b[38;5;241m=\u001b[39m f_forward(x[i], w1, w2)\n\u001b[1;32m---> 66\u001b[0m \tl\u001b[38;5;241m.\u001b[39mappend((loss(out, Y[i])))\n\u001b[0;32m     67\u001b[0m \tw1, w2 \u001b[38;5;241m=\u001b[39m back_prop(x[i], y[i], w1, w2, alpha)\n\u001b[0;32m     68\u001b[0m \u001b[38;5;28mprint\u001b[39m(\u001b[38;5;124m\"\u001b[39m\u001b[38;5;124mepochs:\u001b[39m\u001b[38;5;124m\"\u001b[39m, j \u001b[38;5;241m+\u001b[39m \u001b[38;5;241m1\u001b[39m, \u001b[38;5;124m\"\u001b[39m\u001b[38;5;124m======== acc:\u001b[39m\u001b[38;5;124m\"\u001b[39m, (\u001b[38;5;241m1\u001b[39m\u001b[38;5;241m-\u001b[39m(\u001b[38;5;28msum\u001b[39m(l)\u001b[38;5;241m/\u001b[39m\u001b[38;5;28mlen\u001b[39m(x)))\u001b[38;5;241m*\u001b[39m\u001b[38;5;241m100\u001b[39m) \n",
      "Cell \u001b[1;32mIn[38], line 30\u001b[0m, in \u001b[0;36mloss\u001b[1;34m(out, Y)\u001b[0m\n\u001b[0;32m     29\u001b[0m \u001b[38;5;28;01mdef\u001b[39;00m \u001b[38;5;21mloss\u001b[39m(out, Y):\n\u001b[1;32m---> 30\u001b[0m \ts \u001b[38;5;241m=\u001b[39m(np\u001b[38;5;241m.\u001b[39msquare(out\u001b[38;5;241m-\u001b[39mY))\n\u001b[0;32m     31\u001b[0m \ts \u001b[38;5;241m=\u001b[39m np\u001b[38;5;241m.\u001b[39msum(s)\u001b[38;5;241m/\u001b[39m\u001b[38;5;28mlen\u001b[39m(y)\n\u001b[0;32m     32\u001b[0m \t\u001b[38;5;28;01mreturn\u001b[39;00m(s)\n",
      "\u001b[1;31mUFuncTypeError\u001b[0m: ufunc 'subtract' did not contain a loop with signature matching types (dtype('float64'), dtype('<U1')) -> None"
     ]
    }
   ],
   "source": [
    "\"\"\"The arguments of train function are data set list x, \n",
    "correct labels y, weights w1, w2, learning rate = 0.1, \n",
    "no of epochs or iteration.The function will return the\n",
    "matrix of accuracy and loss and also the matrix of \n",
    "trained weights w1, w2\"\"\"\n",
    "\n",
    "acc, losss, w1_new, w2_new = train(x, y, w1, w2, 0.1, 100)\n"
   ]
  },
  {
   "cell_type": "code",
   "execution_count": null,
   "metadata": {},
   "outputs": [
    {
     "name": "stdout",
     "output_type": "stream",
     "text": [
      "[[-1.19592756  1.53983167 -3.18585901]\n",
      " [-2.56642595 -1.01675185  2.23078111]\n",
      " [ 2.12127463 -2.00629895 -1.59681155]\n",
      " [ 2.11122836 -1.52573776 -0.10331456]\n",
      " [-0.92301478 -2.01876918  1.03533378]]\n"
     ]
    }
   ],
   "source": [
    "print(w2_new)"
   ]
  },
  {
   "cell_type": "code",
   "execution_count": null,
   "metadata": {},
   "outputs": [
    {
     "data": {
      "image/png": "[encoded data removed]",
      "text/plain": [
       "<Figure size 640x480 with 1 Axes>"
      ]
     },
     "metadata": {},
     "output_type": "display_data"
    },
    {
     "data": {
      "image/png": "[encoded data removed]",
      "text/plain": [
       "<Figure size 640x480 with 1 Axes>"
      ]
     },
     "metadata": {},
     "output_type": "display_data"
    }
   ],
   "source": [
    "import matplotlib.pyplot as plt1\n",
    "\n",
    "# plotting accuracy\n",
    "plt1.plot(acc)\n",
    "plt1.ylabel('Accuracy')\n",
    "plt1.xlabel(\"Epochs:\")\n",
    "plt1.show()\n",
    "\n",
    "# plotting Loss\n",
    "plt1.plot(losss)\n",
    "plt1.ylabel('Loss')\n",
    "plt1.xlabel(\"Epochs:\")\n",
    "plt1.show()\n"
   ]
  },
  {
   "cell_type": "code",
   "execution_count": null,
   "metadata": {},
   "outputs": [
    {
     "name": "stdout",
     "output_type": "stream",
     "text": [
      "Image is of letter A.\n"
     ]
    },
    {
     "data": {
      "image/png": "[encoded data removed]",
      "text/plain": [
       "<Figure size 640x480 with 1 Axes>"
      ]
     },
     "metadata": {},
     "output_type": "display_data"
    }
   ],
   "source": [
    "\"\"\"\n",
    "The predict function will take the following arguments:\n",
    "1) image matrix\n",
    "2) w1 trained weights\n",
    "3) w2 trained weights\n",
    "\"\"\"\n",
    "predict(x[0], w1_new, w2_new)\n"
   ]
  }
 ],
 "metadata": {
  "kernelspec": {
   "display_name": "base",
   "language": "python",
   "name": "python3"
  },
  "language_info": {
   "codemirror_mode": {
    "name": "ipython",
    "version": 3
   },
   "file_extension": ".py",
   "mimetype": "text/x-python",
   "name": "python",
   "nbconvert_exporter": "python",
   "pygments_lexer": "ipython3",
   "version": "3.11.5"
  }
 },
 "nbformat": 4,
 "nbformat_minor": 2
}
