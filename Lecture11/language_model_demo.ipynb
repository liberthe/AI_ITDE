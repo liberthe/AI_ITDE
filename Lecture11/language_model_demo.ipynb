{
 "cells": [
  {
   "cell_type": "code",
   "execution_count": 3,
   "metadata": {},
   "outputs": [],
   "source": [
    "from gensim.models import Word2Vec\n",
    "from gensim.utils import simple_preprocess\n",
    "from gensim.models.callbacks import CallbackAny2Vec"
   ]
  },
  {
   "cell_type": "code",
   "execution_count": 2,
   "metadata": {},
   "outputs": [
    {
     "name": "stdout",
     "output_type": "stream",
     "text": [
      "\n",
      "Project Gutenberg's The Adventures of Sherlock Holmes, by Arthur Conan Doyle\n",
      "\n",
      "This eBook is for th\n"
     ]
    }
   ],
   "source": [
    "# Đọc nội dung từ tệp raw_content.txt\n",
    "with open('raw_content.txt', 'r', encoding='utf-8') as file:\n",
    "    text = file.read()\n",
    "print(text[:100])"
   ]
  },
  {
   "cell_type": "code",
   "execution_count": 4,
   "metadata": {},
   "outputs": [],
   "source": [
    "# Tiền xử lý văn bản: chia thành các từ/câu\n",
    "sentences = [simple_preprocess(sentence) for sentence in text.split('\\n')]\n",
    "\n",
    "# Xây dựng và huấn luyện mô hình CBOW\n",
    "model = Word2Vec(sentences, vector_size=100, window=5, min_count=1, sg=0, epochs=10)\n",
    "\n",
    "# Lưu mô hình\n",
    "model.save('cbow_model.bin')"
   ]
  },
  {
   "cell_type": "code",
   "execution_count": null,
   "metadata": {},
   "outputs": [],
   "source": []
  }
 ],
 "metadata": {
  "kernelspec": {
   "display_name": "Python 3 (ipykernel)",
   "language": "python",
   "name": "python3"
  },
  "language_info": {
   "codemirror_mode": {
    "name": "ipython",
    "version": 3
   },
   "file_extension": ".py",
   "mimetype": "text/x-python",
   "name": "python",
   "nbconvert_exporter": "python",
   "pygments_lexer": "ipython3",
   "version": "3.11.5"
  }
 },
 "nbformat": 4,
 "nbformat_minor": 2
}
